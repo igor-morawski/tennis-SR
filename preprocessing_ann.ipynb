{
 "cells": [
  {
   "cell_type": "markdown",
   "id": "baccc533",
   "metadata": {},
   "source": [
    "# Convert annot. file to COCO format"
   ]
  },
  {
   "cell_type": "markdown",
   "id": "2e550417",
   "metadata": {},
   "source": [
    "## Imports"
   ]
  },
  {
   "cell_type": "code",
   "execution_count": 34,
   "id": "912c7c9a",
   "metadata": {},
   "outputs": [],
   "source": [
    "import os \n",
    "from glob import glob\n",
    "import sys\n",
    "import json\n",
    "import cv2\n",
    "\n",
    "FRAMES_DIR = os.path.join(\"data\",\"frames\")"
   ]
  },
  {
   "cell_type": "markdown",
   "id": "7fb1a735",
   "metadata": {},
   "source": [
    "## COCO template"
   ]
  },
  {
   "cell_type": "code",
   "execution_count": 118,
   "id": "e675310c",
   "metadata": {},
   "outputs": [],
   "source": [
    "# https://towardsdatascience.com/getting-started-with-coco-dataset-82def99fa0b8\n",
    "COCO_JSON_CONTENT_TEMPLATE = '''\n",
    "  \"info\": {info_dict},\n",
    "  \"licenses\": {licenses_list},\n",
    "  \"images\": {images_list},\n",
    "  \"categories\": {categories_list},\n",
    "  \"annotations\": {annotations_list}'''\n",
    "\n",
    "IMAGE_DICT_CONTENT_TEMPLATE = '''\n",
    "    \"id\": {id}, \n",
    "    \"width\": {width}, \n",
    "    \"height\": {height}, \n",
    "    \"file_name\": \"{file_name}\", \n",
    "    \"license\": {license}'''\n",
    "\n",
    "BBOX_ANNOT_DICT_CONTENT_TEMPLATE = '''\n",
    "    \"image_id\": {image_id},\n",
    "    \"bbox\":\n",
    "    [\n",
    "        {x1},\n",
    "        {y1},\n",
    "        {width},\n",
    "        {height}\n",
    "    ],\n",
    "    \"category_id\": {category_id},\n",
    "    \"id\": {id}, \n",
    "    \"iscrowd\":0,\n",
    "    \"area\": {area}\n",
    "'''\n",
    "coco = COCO_JSON_CONTENT_TEMPLATE"
   ]
  },
  {
   "cell_type": "markdown",
   "id": "f8bb3896",
   "metadata": {},
   "source": [
    "## Read orig. annot. and number of extracted frames, image dims."
   ]
  },
  {
   "cell_type": "code",
   "execution_count": 10,
   "id": "57b95e86",
   "metadata": {},
   "outputs": [],
   "source": [
    "with open(os.path.join(\"data\",\"top-100-shots-rallies-2018-atp-season-scoreboard-annotations.json\")) as json_file:\n",
    "    data = json.load(json_file)"
   ]
  },
  {
   "cell_type": "code",
   "execution_count": 35,
   "id": "5f491d2a",
   "metadata": {},
   "outputs": [
    {
     "name": "stdout",
     "output_type": "stream",
     "text": [
      "Frames number: 43245\n"
     ]
    }
   ],
   "source": [
    "frames_n = len(glob(os.path.join(FRAMES_DIR,\"*.jpg\")))\n",
    "print(f\"Frames number: {frames_n}\")"
   ]
  },
  {
   "cell_type": "code",
   "execution_count": 36,
   "id": "f63c31fd",
   "metadata": {},
   "outputs": [
    {
     "name": "stdout",
     "output_type": "stream",
     "text": [
      "Image dimensions: 1080 x 1920\n"
     ]
    }
   ],
   "source": [
    "img = cv2.imread(os.path.join(FRAMES_DIR,\"0.jpg\"))\n",
    "height, width, _ = img.shape\n",
    "print(f\"Image dimensions: {height} x {width}\")"
   ]
  },
  {
   "cell_type": "markdown",
   "id": "30f516d7",
   "metadata": {},
   "source": [
    "## Writa data to template"
   ]
  },
  {
   "cell_type": "markdown",
   "id": "a685ac3f",
   "metadata": {},
   "source": [
    "### Basic data"
   ]
  },
  {
   "cell_type": "code",
   "execution_count": 37,
   "id": "9b6e9bff",
   "metadata": {},
   "outputs": [],
   "source": [
    "info_dict = {\"description\": \"Sportsradar interview task\"}\n",
    "\n",
    "licenses_list = [\n",
    "  {\n",
    "    \"id\": 1,\n",
    "    \"name\": \"TODO\",\n",
    "    \"url\": \"TODO\",  \n",
    "  }\n",
    "]\n",
    "\n",
    "categories_list = [{\"supercategory\": \"scoreboard\", \"id\": 1, \"name\": \"scoreboard\"}] "
   ]
  },
  {
   "cell_type": "markdown",
   "id": "acd3b240",
   "metadata": {},
   "source": [
    "## Build images list"
   ]
  },
  {
   "cell_type": "code",
   "execution_count": 90,
   "id": "de6a7d47",
   "metadata": {},
   "outputs": [],
   "source": [
    "images_list = []\n",
    "frame_filepaths = glob(os.path.join(FRAMES_DIR,\"*.jpg\"))\n",
    "for frame_filepath in frame_filepaths: \n",
    "    _, filename = os.path.split(frame_filepath)\n",
    "    frame_idx, _ = filename.split(\".\")\n",
    "    assert frame_idx.isnumeric()\n",
    "    frame_idx = int(frame_idx)\n",
    "    img_data = json.loads('{'+IMAGE_DICT_CONTENT_TEMPLATE.format(id=frame_idx, \n",
    "                                                  width=width,\n",
    "                                                  height=height,\n",
    "                                                  file_name=filename, \n",
    "                                                  license=1)+'}')\n",
    "    images_list.append(img_data)\n",
    "assert len(images_list) == frames_n"
   ]
  },
  {
   "cell_type": "markdown",
   "id": "a639c47b",
   "metadata": {},
   "source": [
    "## Build annotations list"
   ]
  },
  {
   "cell_type": "code",
   "execution_count": 92,
   "id": "051c68c5",
   "metadata": {},
   "outputs": [],
   "source": [
    "annotations_list = []\n",
    "for frame_idx, record in data.items():\n",
    "    frame_idx = str(frame_idx)\n",
    "    x1, y1, x2, y2 = record[\"bbox\"]\n",
    "    x, y = x1, y1\n",
    "    assert x2 >= x1 \n",
    "    assert y2 >= y1\n",
    "    w, h = x2-x1, y2-y1\n",
    "    image_id = frame_idx\n",
    "    anno_data = json.loads('{'+BBOX_ANNOT_DICT_CONTENT_TEMPLATE.format(image_id = frame_idx, \n",
    "                                                                  x1 = x,\n",
    "                                                                  y1 = y, \n",
    "                                                                  width = w, \n",
    "                                                                  height = h,\n",
    "                                                                  category_id = 1,\n",
    "                                                                  id = frame_idx,\n",
    "                                                                  area = w*h)+'}')\n",
    "    # add custom keys\n",
    "    \n",
    "    annotations_list.append(anno_data)"
   ]
  },
  {
   "cell_type": "code",
   "execution_count": 119,
   "id": "79fe08b1",
   "metadata": {},
   "outputs": [
    {
     "name": "stdout",
     "output_type": "stream",
     "text": [
      "['{', '  \"info\": {\\'description\\': \\'Sportsradar interview task\\'},']\n"
     ]
    }
   ],
   "source": [
    "print(('{'+COCO_JSON_CONTENT_TEMPLATE.format(info_dict = info_dict,\n",
    "                                                 licenses_list = licenses_list,\n",
    "                                                 images_list = images_list,\n",
    "                                                 categories_list = categories_list,\n",
    "                                                 annotations_list = annotations_list)+'}').splitlines()[0:2])"
   ]
  },
  {
   "cell_type": "markdown",
   "id": "6d40d444",
   "metadata": {},
   "source": [
    "## Build COCO dict."
   ]
  },
  {
   "cell_type": "code",
   "execution_count": 122,
   "id": "1de079a4",
   "metadata": {},
   "outputs": [],
   "source": [
    "coco = json.loads('{'+COCO_JSON_CONTENT_TEMPLATE.format(info_dict = info_dict,\n",
    "                                                 licenses_list = licenses_list,\n",
    "                                                 images_list = images_list,\n",
    "                                                 categories_list = categories_list,\n",
    "                                                 annotations_list = annotations_list).replace(\"\\'\",\"\\\"\")+'}')"
   ]
  },
  {
   "cell_type": "code",
   "execution_count": 124,
   "id": "5094481b",
   "metadata": {},
   "outputs": [],
   "source": [
    "assert len(coco[\"images\"]) == len(images_list)\n",
    "assert len(coco[\"annotations\"]) == len(annotations_list)"
   ]
  },
  {
   "cell_type": "code",
   "execution_count": 127,
   "id": "48f16cc1",
   "metadata": {},
   "outputs": [
    {
     "name": "stdout",
     "output_type": "stream",
     "text": [
      "Saved COCO-style dict. to data/top-100-shots-rallies-2018-atp-season-scoreboard-annotations_coco.json\n"
     ]
    }
   ],
   "source": [
    "dest_fp = os.path.join(\"data\",\n",
    "                       \"top-100-shots-rallies-2018-atp-season-scoreboard-annotations_coco.json\")\n",
    "with open(dest_fp, \n",
    "          'w') as f:\n",
    "    json.dump(coco, f)\n",
    "    print(f\"Saved COCO-style dict. to {dest_fp}\")"
   ]
  },
  {
   "cell_type": "code",
   "execution_count": null,
   "id": "9064cb2f",
   "metadata": {},
   "outputs": [],
   "source": []
  }
 ],
 "metadata": {
  "kernelspec": {
   "display_name": "Python 3 (ipykernel)",
   "language": "python",
   "name": "python3"
  },
  "language_info": {
   "codemirror_mode": {
    "name": "ipython",
    "version": 3
   },
   "file_extension": ".py",
   "mimetype": "text/x-python",
   "name": "python",
   "nbconvert_exporter": "python",
   "pygments_lexer": "ipython3",
   "version": "3.7.0"
  }
 },
 "nbformat": 4,
 "nbformat_minor": 5
}
