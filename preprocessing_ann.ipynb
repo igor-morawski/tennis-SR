{
 "cells": [
  {
   "cell_type": "markdown",
   "id": "baccc533",
   "metadata": {},
   "source": [
    "# Convert annot. file to COCO format & data split"
   ]
  },
  {
   "cell_type": "markdown",
   "id": "2e550417",
   "metadata": {},
   "source": [
    "## Imports"
   ]
  },
  {
   "cell_type": "code",
   "execution_count": 1,
   "id": "912c7c9a",
   "metadata": {},
   "outputs": [],
   "source": [
    "import os \n",
    "from glob import glob\n",
    "import sys\n",
    "import json\n",
    "import cv2\n",
    "\n",
    "FRAMES_DIR = os.path.join(\"data\",\"frames\")\n",
    "video_name = \"top-100-shots-rallies-2018-atp-season.mp4\"\n",
    "video_file = os.path.join(\"data\",video_name)"
   ]
  },
  {
   "cell_type": "markdown",
   "id": "7fb1a735",
   "metadata": {},
   "source": [
    "## COCO template"
   ]
  },
  {
   "cell_type": "code",
   "execution_count": 2,
   "id": "e675310c",
   "metadata": {},
   "outputs": [],
   "source": [
    "# https://towardsdatascience.com/getting-started-with-coco-dataset-82def99fa0b8\n",
    "COCO_JSON_CONTENT_TEMPLATE = '''\n",
    "  \"info\": {info_dict},\n",
    "  \"licenses\": {licenses_list},\n",
    "  \"images\": {images_list},\n",
    "  \"categories\": {categories_list},\n",
    "  \"annotations\": {annotations_list}'''\n",
    "\n",
    "IMAGE_DICT_CONTENT_TEMPLATE = '''\n",
    "    \"id\": {id}, \n",
    "    \"width\": {width}, \n",
    "    \"height\": {height}, \n",
    "    \"file_name\": \"{file_name}\", \n",
    "    \"license\": {license}'''\n",
    "\n",
    "BBOX_ANNOT_DICT_CONTENT_TEMPLATE = '''\n",
    "    \"image_id\": {image_id},\n",
    "    \"bbox\":\n",
    "    [\n",
    "        {x1},\n",
    "        {y1},\n",
    "        {width},\n",
    "        {height}\n",
    "    ],\n",
    "    \"category_id\": {category_id},\n",
    "    \"id\": {id}, \n",
    "    \"iscrowd\":0,\n",
    "    \"area\": {area}\n",
    "'''\n",
    "coco = COCO_JSON_CONTENT_TEMPLATE"
   ]
  },
  {
   "cell_type": "markdown",
   "id": "f8bb3896",
   "metadata": {},
   "source": [
    "## Read orig. annot. and number of extracted frames, image dims."
   ]
  },
  {
   "cell_type": "code",
   "execution_count": 3,
   "id": "57b95e86",
   "metadata": {},
   "outputs": [],
   "source": [
    "with open(os.path.join(\"data\",\"top-100-shots-rallies-2018-atp-season-scoreboard-annotations.json\")) as json_file:\n",
    "    data = json.load(json_file)"
   ]
  },
  {
   "cell_type": "code",
   "execution_count": 4,
   "id": "5f491d2a",
   "metadata": {},
   "outputs": [
    {
     "name": "stdout",
     "output_type": "stream",
     "text": [
      "Frames number: 43245\n"
     ]
    }
   ],
   "source": [
    "frames_n = len(glob(os.path.join(FRAMES_DIR,\"*.jpg\")))\n",
    "print(f\"Frames number: {frames_n}\")"
   ]
  },
  {
   "cell_type": "code",
   "execution_count": 5,
   "id": "f63c31fd",
   "metadata": {},
   "outputs": [
    {
     "name": "stdout",
     "output_type": "stream",
     "text": [
      "Image dimensions: 1080 x 1920\n"
     ]
    }
   ],
   "source": [
    "img = cv2.imread(os.path.join(FRAMES_DIR,\"0.jpg\"))\n",
    "height, width, _ = img.shape\n",
    "print(f\"Image dimensions: {height} x {width}\")"
   ]
  },
  {
   "cell_type": "markdown",
   "id": "26347383",
   "metadata": {},
   "source": [
    "## Read video info"
   ]
  },
  {
   "cell_type": "code",
   "execution_count": 6,
   "id": "4cc25493",
   "metadata": {},
   "outputs": [
    {
     "name": "stdout",
     "output_type": "stream",
     "text": [
      "data/top-100-shots-rallies-2018-atp-season.mp4: 43247 frames at 25.0 FPS\n"
     ]
    }
   ],
   "source": [
    "video = cv2.VideoCapture(video_file)\n",
    "video_fps = video.get(cv2.CAP_PROP_FPS)\n",
    "video_length = int(video.get(cv2.CAP_PROP_FRAME_COUNT))\n",
    "print(f\"{video_file}: {video_length} frames at {video_fps} FPS\")"
   ]
  },
  {
   "cell_type": "markdown",
   "id": "85f3cdaf",
   "metadata": {},
   "source": [
    "## Data split!!"
   ]
  },
  {
   "cell_type": "code",
   "execution_count": 7,
   "id": "aa08accd",
   "metadata": {},
   "outputs": [
    {
     "name": "stdout",
     "output_type": "stream",
     "text": [
      "[0, 26675] [26675, 33425] [33425, 43245]\n"
     ]
    }
   ],
   "source": [
    "times = [\"17:47\",\"22:17\"]\n",
    "times = [int(t.split(\":\")[0])*60+int(t.split(\":\")[1]) for t in times]\n",
    "t0, t1 = times\n",
    "train = [0, int(video_fps*t0)]\n",
    "val = [int(video_fps*t0), int(video_fps*t1)]\n",
    "test = [int(video_fps*t1), frames_n]\n",
    "print(train, val, test)\n",
    "splits = [\"train\", \"val\", \"test\"]\n",
    "splits_frame_limits = [train, val, test]"
   ]
  },
  {
   "cell_type": "markdown",
   "id": "30f516d7",
   "metadata": {},
   "source": [
    "## Writa data to template"
   ]
  },
  {
   "cell_type": "markdown",
   "id": "a685ac3f",
   "metadata": {},
   "source": [
    "### Basic data"
   ]
  },
  {
   "cell_type": "code",
   "execution_count": 8,
   "id": "9b6e9bff",
   "metadata": {},
   "outputs": [],
   "source": [
    "licenses_list = [\n",
    "  {\n",
    "    \"id\": 1,\n",
    "    \"name\": \"TODO\",\n",
    "    \"url\": \"TODO\",  \n",
    "  }\n",
    "]\n",
    "\n",
    "categories_list = [{\"supercategory\": \"scoreboard\", \"id\": 1, \"name\": \"scoreboard\"}] "
   ]
  },
  {
   "cell_type": "markdown",
   "id": "acd3b240",
   "metadata": {},
   "source": [
    "## Build images list"
   ]
  },
  {
   "cell_type": "code",
   "execution_count": 9,
   "id": "de6a7d47",
   "metadata": {},
   "outputs": [],
   "source": [
    "images_lists = []\n",
    "for split, split_limits in zip(splits, splits_frame_limits):\n",
    "    images_list = []\n",
    "    for frame_idx in range(split_limits[0], split_limits[1]):\n",
    "        filename = f\"{frame_idx}.jpg\"\n",
    "        frame_filepath = os.path.join(FRAMES_DIR,filename)\n",
    "        assert os.path.exists(frame_filepath)\n",
    "        img_data = json.loads('{'+IMAGE_DICT_CONTENT_TEMPLATE.format(id=frame_idx, \n",
    "                                                      width=width,\n",
    "                                                      height=height,\n",
    "                                                      file_name=filename, \n",
    "                                                      license=1)+'}')\n",
    "        \n",
    "        images_list.append(img_data)\n",
    "    images_lists.append(images_list)"
   ]
  },
  {
   "cell_type": "markdown",
   "id": "a639c47b",
   "metadata": {},
   "source": [
    "## Build annotations list"
   ]
  },
  {
   "cell_type": "code",
   "execution_count": 10,
   "id": "051c68c5",
   "metadata": {},
   "outputs": [],
   "source": [
    "annotations_lists = [[] for split in splits]\n",
    "for frame_idx, record in data.items():\n",
    "    frame_idx = str(frame_idx)\n",
    "    x1, y1, x2, y2 = record[\"bbox\"]\n",
    "    x, y = x1, y1\n",
    "    assert x2 >= x1 \n",
    "    assert y2 >= y1\n",
    "    w, h = x2-x1, y2-y1\n",
    "    image_id = frame_idx\n",
    "    anno_data = json.loads('{'+BBOX_ANNOT_DICT_CONTENT_TEMPLATE.format(image_id = frame_idx, \n",
    "                                                                  x1 = x,\n",
    "                                                                  y1 = y, \n",
    "                                                                  width = w, \n",
    "                                                                  height = h,\n",
    "                                                                  category_id = 1,\n",
    "                                                                  id = frame_idx,\n",
    "                                                                  area = w*h)+'}')\n",
    "    # add custom keys\n",
    "    for split_idx in range(len(splits)):\n",
    "        low, high = splits_frame_limits[split_idx]\n",
    "        if low <= int(frame_idx) < high:\n",
    "            annotations_lists[split_idx].append(anno_data)\n",
    "assert sum(len(l) for l in annotations_lists) == len(data.keys())"
   ]
  },
  {
   "cell_type": "code",
   "execution_count": null,
   "id": "79fe08b1",
   "metadata": {},
   "outputs": [],
   "source": []
  },
  {
   "cell_type": "markdown",
   "id": "6d40d444",
   "metadata": {},
   "source": [
    "## Build COCO dict."
   ]
  },
  {
   "cell_type": "code",
   "execution_count": 16,
   "id": "1de079a4",
   "metadata": {},
   "outputs": [
    {
     "name": "stdout",
     "output_type": "stream",
     "text": [
      "Saved COCO-style dict. to data/top-100-shots-rallies-2018-atp-season-scoreboard-annotations_coco_train.json\n",
      "Saved COCO-style dict. to data/top-100-shots-rallies-2018-atp-season-scoreboard-annotations_coco_val.json\n",
      "Saved COCO-style dict. to data/top-100-shots-rallies-2018-atp-season-scoreboard-annotations_coco_test.json\n"
     ]
    }
   ],
   "source": [
    "for split, images_list, annotations_list in zip(splits, images_lists, annotations_lists):\n",
    "    coco = json.loads('{'+COCO_JSON_CONTENT_TEMPLATE.format(info_dict = {\"description\": \"Sportsradar interview task {}\".format(split)},\n",
    "                                                     licenses_list = licenses_list,\n",
    "                                                     images_list = images_list,\n",
    "                                                     categories_list = categories_list,\n",
    "                                                     annotations_list = annotations_list).replace(\"\\'\",\"\\\"\")+'}')\n",
    "    assert len(coco[\"images\"]) == len(images_list)\n",
    "    assert len(coco[\"annotations\"]) == len(annotations_list)\n",
    "    dest_fp = os.path.join(\"data\",\n",
    "                       f\"top-100-shots-rallies-2018-atp-season-scoreboard-annotations_coco_{split}.json\")\n",
    "    with open(dest_fp, \n",
    "              'w') as f:\n",
    "        json.dump(coco, f)\n",
    "        print(f\"Saved COCO-style dict. to {dest_fp}\")"
   ]
  }
 ],
 "metadata": {
  "kernelspec": {
   "display_name": "Python 3 (ipykernel)",
   "language": "python",
   "name": "python3"
  },
  "language_info": {
   "codemirror_mode": {
    "name": "ipython",
    "version": 3
   },
   "file_extension": ".py",
   "mimetype": "text/x-python",
   "name": "python",
   "nbconvert_exporter": "python",
   "pygments_lexer": "ipython3",
   "version": "3.7.0"
  }
 },
 "nbformat": 4,
 "nbformat_minor": 5
}
