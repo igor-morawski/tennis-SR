{
 "cells": [
  {
   "cell_type": "markdown",
   "id": "017eb845",
   "metadata": {},
   "source": [
    "# 1. Pre-process data (extract frames)"
   ]
  },
  {
   "cell_type": "markdown",
   "id": "64f7dfbe",
   "metadata": {},
   "source": [
    "## Imports and defaults"
   ]
  },
  {
   "cell_type": "code",
   "execution_count": 25,
   "id": "d847eaaf",
   "metadata": {},
   "outputs": [],
   "source": [
    "import os\n",
    "import sys"
   ]
  },
  {
   "cell_type": "code",
   "execution_count": 26,
   "id": "88f6445f",
   "metadata": {},
   "outputs": [],
   "source": [
    "import cv2\n",
    "\n",
    "data_dir = \"data\"\n",
    "output_dir = os.path.join(data_dir, \"frames\")\n",
    "video_name = \"top-100-shots-rallies-2018-atp-season.mp4\"\n",
    "video_file = os.path.join(data_dir,video_name)\n",
    "frame_ext = \"jpg\""
   ]
  },
  {
   "cell_type": "code",
   "execution_count": 27,
   "id": "5302cf09",
   "metadata": {},
   "outputs": [
    {
     "name": "stdout",
     "output_type": "stream",
     "text": [
      "Frames from data/top-100-shots-rallies-2018-atp-season.mp4 will be extracted to data/frames\n"
     ]
    }
   ],
   "source": [
    "assert os.path.exists(data_dir)\n",
    "if not os.path.exists(output_dir): os.mkdir(output_dir)\n",
    "assert os.path.exists(output_dir)\n",
    "assert os.path.exists(video_file)\n",
    "print(f\"Frames from {video_file} will be extracted to {output_dir}\")"
   ]
  },
  {
   "cell_type": "markdown",
   "id": "3055f0eb",
   "metadata": {},
   "source": [
    "## Read video and extract frames"
   ]
  },
  {
   "cell_type": "code",
   "execution_count": 28,
   "id": "7d8cdabb",
   "metadata": {},
   "outputs": [
    {
     "name": "stdout",
     "output_type": "stream",
     "text": [
      "data/top-100-shots-rallies-2018-atp-season.mp4: 43247 frames at 25.0 FPS\n"
     ]
    }
   ],
   "source": [
    "video = cv2.VideoCapture(video_file)\n",
    "video_fps = video.get(cv2.CAP_PROP_FPS)\n",
    "video_length = int(video.get(cv2.CAP_PROP_FRAME_COUNT))\n",
    "print(f\"{video_file}: {video_length} frames at {video_fps} FPS\")"
   ]
  },
  {
   "cell_type": "markdown",
   "id": "12eec02e",
   "metadata": {},
   "source": [
    "## Extract frames"
   ]
  },
  {
   "cell_type": "code",
   "execution_count": 31,
   "id": "431bb912",
   "metadata": {},
   "outputs": [
    {
     "name": "stdout",
     "output_type": "stream",
     "text": [
      "Extracting frames...\n",
      "Extracted 43246/43247 frames\n"
     ]
    }
   ],
   "source": [
    "success, frame = video.read()\n",
    "frame_idx = 0\n",
    "print(\"Extracting frames...\")\n",
    "while success:\n",
    "    cv2.imwrite(os.path.join(output_dir,f\"{frame_idx}.{frame_ext}\"),frame)\n",
    "    success, frame = video.read()\n",
    "    frame_idx += 1\n",
    "print(f\"Extracted {frame_idx+1}/{video_length} frames\")"
   ]
  },
  {
   "cell_type": "code",
   "execution_count": null,
   "id": "791080c8",
   "metadata": {},
   "outputs": [],
   "source": []
  },
  {
   "cell_type": "code",
   "execution_count": null,
   "id": "fcfee9b7",
   "metadata": {},
   "outputs": [],
   "source": []
  }
 ],
 "metadata": {
  "kernelspec": {
   "display_name": "Python 3 (ipykernel)",
   "language": "python",
   "name": "python3"
  },
  "language_info": {
   "codemirror_mode": {
    "name": "ipython",
    "version": 3
   },
   "file_extension": ".py",
   "mimetype": "text/x-python",
   "name": "python",
   "nbconvert_exporter": "python",
   "pygments_lexer": "ipython3",
   "version": "3.7.0"
  }
 },
 "nbformat": 4,
 "nbformat_minor": 5
}
